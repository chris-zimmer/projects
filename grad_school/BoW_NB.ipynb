{
  "nbformat": 4,
  "nbformat_minor": 0,
  "metadata": {
    "colab": {
      "name": "BoW NB.ipynb",
      "provenance": [],
      "collapsed_sections": []
    },
    "kernelspec": {
      "name": "python3",
      "display_name": "Python 3"
    }
  },
  "cells": [
    {
      "cell_type": "markdown",
      "metadata": {
        "id": "c2TCfaekYPWL"
      },
      "source": [
        "# Bag of Words Model with Naive Bayes Classifier\r\n",
        "Trained on hand-tagged data, tested on new comments?"
      ]
    },
    {
      "cell_type": "code",
      "metadata": {
        "id": "oWEPLMr2YJCK"
      },
      "source": [
        "import tensorflow as tf\r\n",
        "import pandas as pd\r\n",
        "import matplotlib.pyplot as plt\r\n"
      ],
      "execution_count": null,
      "outputs": []
    },
    {
      "cell_type": "code",
      "metadata": {
        "id": "opC2wJ_6YxLX"
      },
      "source": [
        "data = pd.read_csv('/content/drive/MyDrive/Culminating Experience/HandTagged_for_GoogleColab.csv')\r\n",
        "data.head()"
      ],
      "execution_count": null,
      "outputs": []
    },
    {
      "cell_type": "markdown",
      "metadata": {
        "id": "lSYodYwtcn6I"
      },
      "source": [
        "### Label Encoding\r\n",
        "\r\n",
        "This is a method to convert the class labels Positive, Negative, Neutral into numerical values that can be used by the model."
      ]
    },
    {
      "cell_type": "code",
      "metadata": {
        "id": "eP1EqNCgaczL"
      },
      "source": [
        "from sklearn.preprocessing import LabelEncoder\r\n",
        "le = LabelEncoder()\r\n",
        "\r\n",
        "data['Sentiment'] = le.fit_transform(data['Sentiment'])\r\n"
      ],
      "execution_count": null,
      "outputs": []
    },
    {
      "cell_type": "markdown",
      "metadata": {
        "id": "GBPWcMf-iSui"
      },
      "source": [
        "### Cleaning the texts"
      ]
    },
    {
      "cell_type": "code",
      "metadata": {
        "id": "T68iEWleeuKI",
        "colab": {
          "base_uri": "https://localhost:8080/"
        },
        "outputId": "35a1bfd4-bf51-4852-d147-25cbc3cb54ff"
      },
      "source": [
        "import re, nltk\r\n",
        "nltk.download('stopwords')\r\n",
        "from nltk.corpus import stopwords\r\n",
        "from nltk.stem.porter import PorterStemmer\r\n",
        "corpus = []\r\n",
        "for i in range(0, len(data['Sentiment'])):\r\n",
        "  review = re.sub('[^a-zA-Z]', ' ', data['Comment'][i])\r\n",
        "  review = review.lower()\r\n",
        "  review = review.split()\r\n",
        "  ps = PorterStemmer()\r\n",
        "  review = [ps.stem(word) for word in review if not word in set (stopwords.words('english'))]\r\n",
        "  review = ' '.join(review)\r\n",
        "  corpus.append(review)\r\n"
      ],
      "execution_count": null,
      "outputs": [
        {
          "output_type": "stream",
          "text": [
            "[nltk_data] Downloading package stopwords to /root/nltk_data...\n",
            "[nltk_data]   Package stopwords is already up-to-date!\n"
          ],
          "name": "stdout"
        }
      ]
    },
    {
      "cell_type": "markdown",
      "metadata": {
        "id": "ubIt3vt0kX-G"
      },
      "source": [
        "### Bag of Words model"
      ]
    },
    {
      "cell_type": "code",
      "metadata": {
        "id": "rS3vnjz5if6x"
      },
      "source": [
        "from sklearn.feature_extraction.text import CountVectorizer\r\n",
        "cv = CountVectorizer(max_features = 3000)\r\n",
        "X = cv.fit_transform(corpus).toarray()\r\n",
        "y = data.iloc[:, 0].values"
      ],
      "execution_count": null,
      "outputs": []
    },
    {
      "cell_type": "markdown",
      "metadata": {
        "id": "YzUIUlF2nMX8"
      },
      "source": [
        "### Splitting into training and testing"
      ]
    },
    {
      "cell_type": "code",
      "metadata": {
        "id": "J_-Q-xJanPOI"
      },
      "source": [
        "from sklearn.model_selection import train_test_split\r\n",
        "X_train, X_test, y_train, y_test = train_test_split(X, y, test_size = 0.20, random_state = 0)"
      ],
      "execution_count": null,
      "outputs": []
    },
    {
      "cell_type": "markdown",
      "metadata": {
        "id": "a_nleL1Jnsl9"
      },
      "source": [
        "### Naive Bayes Classifier"
      ]
    },
    {
      "cell_type": "code",
      "metadata": {
        "colab": {
          "base_uri": "https://localhost:8080/"
        },
        "id": "7yK4pTH0nzN4",
        "outputId": "53ddac8c-8364-4d22-dd73-82502b603b43"
      },
      "source": [
        "from sklearn.naive_bayes import GaussianNB\r\n",
        "classifier = GaussianNB()\r\n",
        "classifier.fit(X_train, y_train)"
      ],
      "execution_count": null,
      "outputs": [
        {
          "output_type": "execute_result",
          "data": {
            "text/plain": [
              "GaussianNB(priors=None, var_smoothing=1e-09)"
            ]
          },
          "metadata": {
            "tags": []
          },
          "execution_count": 25
        }
      ]
    },
    {
      "cell_type": "markdown",
      "metadata": {
        "id": "87OYRZwkoNLR"
      },
      "source": [
        "### Predicting Test Results"
      ]
    },
    {
      "cell_type": "code",
      "metadata": {
        "id": "g1Q6g-ImoQtI"
      },
      "source": [
        "y_pred = classifier.predict(X_test)"
      ],
      "execution_count": null,
      "outputs": []
    },
    {
      "cell_type": "markdown",
      "metadata": {
        "id": "C6QzFA8DoZAz"
      },
      "source": [
        "### Confusion Matrix"
      ]
    },
    {
      "cell_type": "code",
      "metadata": {
        "colab": {
          "base_uri": "https://localhost:8080/"
        },
        "id": "XpWv-bkoogJA",
        "outputId": "63a96067-d186-48bc-8202-53828ff97bc9"
      },
      "source": [
        "from sklearn.metrics import confusion_matrix, accuracy_score\r\n",
        "cm = confusion_matrix(y_test, y_pred)\r\n",
        "print(cm)"
      ],
      "execution_count": null,
      "outputs": [
        {
          "output_type": "stream",
          "text": [
            "[[ 90  82 144]\n",
            " [ 25  40  62]\n",
            " [ 17  16 206]]\n"
          ],
          "name": "stdout"
        }
      ]
    },
    {
      "cell_type": "markdown",
      "metadata": {
        "id": "-lDnUXxtro8G"
      },
      "source": [
        "### Checking various metrics"
      ]
    },
    {
      "cell_type": "code",
      "metadata": {
        "colab": {
          "base_uri": "https://localhost:8080/"
        },
        "id": "1FiVcTlVrI7B",
        "outputId": "f7becc5c-fbca-42ab-c567-5c50f47d0f84"
      },
      "source": [
        "import numpy as np\r\n",
        "np.shape(X_train)"
      ],
      "execution_count": null,
      "outputs": [
        {
          "output_type": "execute_result",
          "data": {
            "text/plain": [
              "(2727, 2171)"
            ]
          },
          "metadata": {
            "tags": []
          },
          "execution_count": 28
        }
      ]
    },
    {
      "cell_type": "code",
      "metadata": {
        "colab": {
          "base_uri": "https://localhost:8080/"
        },
        "id": "ntigQdvfrLE4",
        "outputId": "9ae96475-5568-4582-a841-8a74265c6d6b"
      },
      "source": [
        "accuracy_score(y_pred, y_test)"
      ],
      "execution_count": null,
      "outputs": [
        {
          "output_type": "execute_result",
          "data": {
            "text/plain": [
              "0.49266862170087977"
            ]
          },
          "metadata": {
            "tags": []
          },
          "execution_count": 29
        }
      ]
    }
  ]
}