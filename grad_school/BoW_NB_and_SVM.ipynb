{
  "nbformat": 4,
  "nbformat_minor": 0,
  "metadata": {
    "colab": {
      "name": "BoW NB and SVM.ipynb",
      "provenance": [],
      "collapsed_sections": [],
      "mount_file_id": "1H9Ppi56I3SsFmE09r5ltddaZArc9z2Qx",
      "authorship_tag": "ABX9TyNfEKOudY/LPalZEU24ZuAU",
      "include_colab_link": true
    },
    "kernelspec": {
      "name": "python3",
      "display_name": "Python 3"
    }
  },
  "cells": [
    {
      "cell_type": "markdown",
      "metadata": {
        "id": "view-in-github",
        "colab_type": "text"
      },
      "source": [
        "<a href=\"https://colab.research.google.com/github/ChristopherZimmerCU-Boulder/projects/blob/master/BoW_NB_and_SVM.ipynb\" target=\"_parent\"><img src=\"https://colab.research.google.com/assets/colab-badge.svg\" alt=\"Open In Colab\"/></a>"
      ]
    },
    {
      "cell_type": "markdown",
      "metadata": {
        "id": "c2TCfaekYPWL"
      },
      "source": [
        "# Bag of Words Model with Naive Bayes, SVM Classifiers"
      ]
    },
    {
      "cell_type": "code",
      "metadata": {
        "id": "oWEPLMr2YJCK"
      },
      "source": [
        "import tensorflow as tf\n",
        "import pandas as pd\n",
        "import matplotlib.pyplot as plt\n"
      ],
      "execution_count": null,
      "outputs": []
    },
    {
      "cell_type": "code",
      "metadata": {
        "id": "opC2wJ_6YxLX",
        "colab": {
          "base_uri": "https://localhost:8080/",
          "height": 204
        },
        "outputId": "742a8a0f-ec6c-4f92-c44f-79505cd604d8"
      },
      "source": [
        "data = pd.read_csv('/content/drive/MyDrive/Culminating Experience/HandTagged_for_GoogleColab.csv')\n",
        "data.head()"
      ],
      "execution_count": null,
      "outputs": [
        {
          "output_type": "execute_result",
          "data": {
            "text/html": [
              "<div>\n",
              "<style scoped>\n",
              "    .dataframe tbody tr th:only-of-type {\n",
              "        vertical-align: middle;\n",
              "    }\n",
              "\n",
              "    .dataframe tbody tr th {\n",
              "        vertical-align: top;\n",
              "    }\n",
              "\n",
              "    .dataframe thead th {\n",
              "        text-align: right;\n",
              "    }\n",
              "</style>\n",
              "<table border=\"1\" class=\"dataframe\">\n",
              "  <thead>\n",
              "    <tr style=\"text-align: right;\">\n",
              "      <th></th>\n",
              "      <th>Sentiment</th>\n",
              "      <th>Comment</th>\n",
              "    </tr>\n",
              "  </thead>\n",
              "  <tbody>\n",
              "    <tr>\n",
              "      <th>0</th>\n",
              "      <td>Negative</td>\n",
              "      <td>:(</td>\n",
              "    </tr>\n",
              "    <tr>\n",
              "      <th>1</th>\n",
              "      <td>Negative</td>\n",
              "      <td>:(</td>\n",
              "    </tr>\n",
              "    <tr>\n",
              "      <th>2</th>\n",
              "      <td>Neutral</td>\n",
              "      <td>:|</td>\n",
              "    </tr>\n",
              "    <tr>\n",
              "      <th>3</th>\n",
              "      <td>Neutral</td>\n",
              "      <td>:l</td>\n",
              "    </tr>\n",
              "    <tr>\n",
              "      <th>4</th>\n",
              "      <td>Neutral</td>\n",
              "      <td>.</td>\n",
              "    </tr>\n",
              "  </tbody>\n",
              "</table>\n",
              "</div>"
            ],
            "text/plain": [
              "  Sentiment Comment\n",
              "0  Negative      :(\n",
              "1  Negative      :(\n",
              "2   Neutral      :|\n",
              "3   Neutral      :l\n",
              "4   Neutral       ."
            ]
          },
          "metadata": {
            "tags": []
          },
          "execution_count": 2
        }
      ]
    },
    {
      "cell_type": "markdown",
      "metadata": {
        "id": "lSYodYwtcn6I"
      },
      "source": [
        "### Label Encoding\n",
        "\n",
        "This is a method to convert the class labels Positive, Negative, Neutral into numerical values that can be used by the model."
      ]
    },
    {
      "cell_type": "code",
      "metadata": {
        "id": "eP1EqNCgaczL",
        "colab": {
          "base_uri": "https://localhost:8080/",
          "height": 204
        },
        "outputId": "3bc83cdf-1582-4477-97fe-bf4dc5822721"
      },
      "source": [
        "from sklearn.preprocessing import LabelEncoder\n",
        "le = LabelEncoder()\n",
        "\n",
        "data['Sentiment'] = le.fit_transform(data['Sentiment'])\n",
        "data.head()"
      ],
      "execution_count": null,
      "outputs": [
        {
          "output_type": "execute_result",
          "data": {
            "text/html": [
              "<div>\n",
              "<style scoped>\n",
              "    .dataframe tbody tr th:only-of-type {\n",
              "        vertical-align: middle;\n",
              "    }\n",
              "\n",
              "    .dataframe tbody tr th {\n",
              "        vertical-align: top;\n",
              "    }\n",
              "\n",
              "    .dataframe thead th {\n",
              "        text-align: right;\n",
              "    }\n",
              "</style>\n",
              "<table border=\"1\" class=\"dataframe\">\n",
              "  <thead>\n",
              "    <tr style=\"text-align: right;\">\n",
              "      <th></th>\n",
              "      <th>Sentiment</th>\n",
              "      <th>Comment</th>\n",
              "    </tr>\n",
              "  </thead>\n",
              "  <tbody>\n",
              "    <tr>\n",
              "      <th>0</th>\n",
              "      <td>0</td>\n",
              "      <td>:(</td>\n",
              "    </tr>\n",
              "    <tr>\n",
              "      <th>1</th>\n",
              "      <td>0</td>\n",
              "      <td>:(</td>\n",
              "    </tr>\n",
              "    <tr>\n",
              "      <th>2</th>\n",
              "      <td>1</td>\n",
              "      <td>:|</td>\n",
              "    </tr>\n",
              "    <tr>\n",
              "      <th>3</th>\n",
              "      <td>1</td>\n",
              "      <td>:l</td>\n",
              "    </tr>\n",
              "    <tr>\n",
              "      <th>4</th>\n",
              "      <td>1</td>\n",
              "      <td>.</td>\n",
              "    </tr>\n",
              "  </tbody>\n",
              "</table>\n",
              "</div>"
            ],
            "text/plain": [
              "   Sentiment Comment\n",
              "0          0      :(\n",
              "1          0      :(\n",
              "2          1      :|\n",
              "3          1      :l\n",
              "4          1       ."
            ]
          },
          "metadata": {
            "tags": []
          },
          "execution_count": 3
        }
      ]
    },
    {
      "cell_type": "markdown",
      "metadata": {
        "id": "GBPWcMf-iSui"
      },
      "source": [
        "### Cleaning the texts"
      ]
    },
    {
      "cell_type": "code",
      "metadata": {
        "id": "T68iEWleeuKI",
        "colab": {
          "base_uri": "https://localhost:8080/"
        },
        "outputId": "440416da-2b3a-4753-85cf-5711b093a09c"
      },
      "source": [
        "import re, nltk\n",
        "nltk.download('stopwords')\n",
        "from nltk.corpus import stopwords\n",
        "from nltk.stem.porter import PorterStemmer\n",
        "corpus = []\n",
        "for i in range(0, len(data['Sentiment'])):\n",
        "  review = re.sub('[^a-zA-Z]', ' ', data['Comment'][i])\n",
        "  review = review.lower()\n",
        "  review = review.split()\n",
        "  ps = PorterStemmer()\n",
        "  review = [ps.stem(word) for word in review if not word in set (stopwords.words('english'))]\n",
        "  review = ' '.join(review)\n",
        "  corpus.append(review)\n"
      ],
      "execution_count": null,
      "outputs": [
        {
          "output_type": "stream",
          "text": [
            "[nltk_data] Downloading package stopwords to /root/nltk_data...\n",
            "[nltk_data]   Unzipping corpora/stopwords.zip.\n"
          ],
          "name": "stdout"
        }
      ]
    },
    {
      "cell_type": "code",
      "metadata": {
        "colab": {
          "base_uri": "https://localhost:8080/",
          "height": 35
        },
        "id": "QPeYB6P0dOWr",
        "outputId": "c1bbcda1-a853-4834-a283-fbb673b2444f"
      },
      "source": [
        "data['Comment'][7]"
      ],
      "execution_count": null,
      "outputs": [
        {
          "output_type": "execute_result",
          "data": {
            "application/vnd.google.colaboratory.intrinsic+json": {
              "type": "string"
            },
            "text/plain": [
              "'Bring back myCUinfo, I highly doubt you actually deleted it'"
            ]
          },
          "metadata": {
            "tags": []
          },
          "execution_count": 14
        }
      ]
    },
    {
      "cell_type": "code",
      "metadata": {
        "colab": {
          "base_uri": "https://localhost:8080/"
        },
        "id": "JTu8c3U2dBcE",
        "outputId": "7ca06729-a0fa-4cf3-956e-636254ac9b4f"
      },
      "source": [
        "corpus[0:10]"
      ],
      "execution_count": null,
      "outputs": [
        {
          "output_type": "execute_result",
          "data": {
            "text/plain": [
              "['',\n",
              " '',\n",
              " '',\n",
              " 'l',\n",
              " '',\n",
              " 'mobil first two time tri log got put infinit loop buffport identikey verifi also write thsi comment cannot see write keep forc screen bottom page',\n",
              " 'pro link page view financi aid much clear easi use con see class enrol cannot see total number credit enrol import grad student abl easili access',\n",
              " 'bring back mycuinfo highli doubt actual delet',\n",
              " 'given class schedul probabl pull exact databas use mycuinfo updat time manner chang made mycuinfo view schedul previou futur semest noth display sinc class semest come week think would far use provid schedul typic week semest question simpli add note indic campu close holiday etc rather complet remov inform site may wonder use mobil put everyth hamburg menu desktop obscur access tool make access tool complic even someon know card bottom hamburg menu avail home screen clear add someth like chang schedul special call addit list class registr',\n",
              " 'link say mainten']"
            ]
          },
          "metadata": {
            "tags": []
          },
          "execution_count": 10
        }
      ]
    },
    {
      "cell_type": "markdown",
      "metadata": {
        "id": "ubIt3vt0kX-G"
      },
      "source": [
        "### Bag of Words model"
      ]
    },
    {
      "cell_type": "code",
      "metadata": {
        "id": "rS3vnjz5if6x"
      },
      "source": [
        "from sklearn.feature_extraction.text import CountVectorizer\n",
        "cv = CountVectorizer(max_features = 3000)\n",
        "X = cv.fit_transform(corpus).toarray()\n",
        "y = data.iloc[:, 0].values"
      ],
      "execution_count": null,
      "outputs": []
    },
    {
      "cell_type": "code",
      "metadata": {
        "colab": {
          "base_uri": "https://localhost:8080/"
        },
        "id": "KzSJFE90r4pg",
        "outputId": "2e25cce3-19d3-4eb1-8362-cc1e029b8a43"
      },
      "source": [
        "X.shape"
      ],
      "execution_count": null,
      "outputs": [
        {
          "output_type": "execute_result",
          "data": {
            "text/plain": [
              "(3409, 2171)"
            ]
          },
          "metadata": {
            "tags": []
          },
          "execution_count": 20
        }
      ]
    },
    {
      "cell_type": "markdown",
      "metadata": {
        "id": "YzUIUlF2nMX8"
      },
      "source": [
        "### Splitting into training and testing"
      ]
    },
    {
      "cell_type": "code",
      "metadata": {
        "id": "J_-Q-xJanPOI"
      },
      "source": [
        "from sklearn.model_selection import train_test_split\n",
        "X_train, X_test, y_train, y_test = train_test_split(X, y, test_size = 0.20, random_state = 0)"
      ],
      "execution_count": null,
      "outputs": []
    },
    {
      "cell_type": "markdown",
      "metadata": {
        "id": "a_nleL1Jnsl9"
      },
      "source": [
        "### SVM Classifier"
      ]
    },
    {
      "cell_type": "code",
      "metadata": {
        "colab": {
          "base_uri": "https://localhost:8080/"
        },
        "id": "7yK4pTH0nzN4",
        "outputId": "c606b615-53e2-42bd-8180-0b2f2d1d8f0e"
      },
      "source": [
        "from sklearn import svm\n",
        "svc = svm.SVC()\n",
        "svc.fit(X_train, y_train)"
      ],
      "execution_count": null,
      "outputs": [
        {
          "output_type": "execute_result",
          "data": {
            "text/plain": [
              "SVC(C=1.0, break_ties=False, cache_size=200, class_weight=None, coef0=0.0,\n",
              "    decision_function_shape='ovr', degree=3, gamma='scale', kernel='rbf',\n",
              "    max_iter=-1, probability=False, random_state=None, shrinking=True,\n",
              "    tol=0.001, verbose=False)"
            ]
          },
          "metadata": {
            "tags": []
          },
          "execution_count": 7
        }
      ]
    },
    {
      "cell_type": "markdown",
      "metadata": {
        "id": "Br-4ZJ-waWdD"
      },
      "source": [
        "### Naive Bayes Classifier"
      ]
    },
    {
      "cell_type": "code",
      "metadata": {
        "colab": {
          "base_uri": "https://localhost:8080/"
        },
        "id": "DMo3ODq_aa4f",
        "outputId": "1853646f-3692-4270-f28e-859eb5d3759b"
      },
      "source": [
        "from sklearn.naive_bayes import GaussianNB\n",
        "nb = GaussianNB()\n",
        "nb.fit(X_train, y_train)"
      ],
      "execution_count": null,
      "outputs": [
        {
          "output_type": "execute_result",
          "data": {
            "text/plain": [
              "GaussianNB(priors=None, var_smoothing=1e-09)"
            ]
          },
          "metadata": {
            "tags": []
          },
          "execution_count": 8
        }
      ]
    },
    {
      "cell_type": "markdown",
      "metadata": {
        "id": "87OYRZwkoNLR"
      },
      "source": [
        "### Predicting Test Results"
      ]
    },
    {
      "cell_type": "code",
      "metadata": {
        "id": "g1Q6g-ImoQtI"
      },
      "source": [
        "svm_pred = svc.predict(X_test)\n",
        "nb_pred2 = nb.predict(X_test)"
      ],
      "execution_count": null,
      "outputs": []
    },
    {
      "cell_type": "markdown",
      "metadata": {
        "id": "C6QzFA8DoZAz"
      },
      "source": [
        "### Confusion Matrix"
      ]
    },
    {
      "cell_type": "code",
      "metadata": {
        "colab": {
          "base_uri": "https://localhost:8080/"
        },
        "id": "XpWv-bkoogJA",
        "outputId": "286e942e-9a5d-478c-b2d7-c0048f9b7fca"
      },
      "source": [
        "from sklearn.metrics import confusion_matrix, classification_report\n",
        "cm = confusion_matrix(y_test, y_pred1)\n",
        "print(cm)"
      ],
      "execution_count": null,
      "outputs": [
        {
          "output_type": "stream",
          "text": [
            "[[285   7  24]\n",
            " [103  10  14]\n",
            " [ 53   1 185]]\n"
          ],
          "name": "stdout"
        }
      ]
    },
    {
      "cell_type": "markdown",
      "metadata": {
        "id": "-lDnUXxtro8G"
      },
      "source": [
        "### Checking various metrics"
      ]
    },
    {
      "cell_type": "code",
      "metadata": {
        "colab": {
          "base_uri": "https://localhost:8080/"
        },
        "id": "ntigQdvfrLE4",
        "outputId": "c222e2ac-20fd-4c21-f204-3a64a9250ab7"
      },
      "source": [
        "from sklearn.metrics import classification_report\n",
        "print(classification_report(y_test,svm_pred,target_names=['Negative','Neutral','Positive']))"
      ],
      "execution_count": null,
      "outputs": [
        {
          "output_type": "stream",
          "text": [
            "              precision    recall  f1-score   support\n",
            "\n",
            "    Negative       0.65      0.90      0.75       316\n",
            "     Neutral       0.56      0.08      0.14       127\n",
            "    Positive       0.83      0.77      0.80       239\n",
            "\n",
            "    accuracy                           0.70       682\n",
            "   macro avg       0.68      0.58      0.56       682\n",
            "weighted avg       0.69      0.70      0.66       682\n",
            "\n"
          ],
          "name": "stdout"
        }
      ]
    },
    {
      "cell_type": "code",
      "metadata": {
        "id": "O3O_Ic7WKwOL",
        "colab": {
          "base_uri": "https://localhost:8080/"
        },
        "outputId": "3f1c11af-fd9e-4585-e5a5-c600df20bd27"
      },
      "source": [
        "print(classification_report(y_test,nb_pred,target_names=['Negative','Neutral','Positive']))"
      ],
      "execution_count": null,
      "outputs": [
        {
          "output_type": "stream",
          "text": [
            "              precision    recall  f1-score   support\n",
            "\n",
            "    Negative       0.68      0.28      0.40       316\n",
            "     Neutral       0.29      0.31      0.30       127\n",
            "    Positive       0.50      0.86      0.63       239\n",
            "\n",
            "    accuracy                           0.49       682\n",
            "   macro avg       0.49      0.49      0.45       682\n",
            "weighted avg       0.55      0.49      0.46       682\n",
            "\n"
          ],
          "name": "stdout"
        }
      ]
    },
    {
      "cell_type": "code",
      "metadata": {
        "id": "43-DD6XKKzUx"
      },
      "source": [
        ""
      ],
      "execution_count": null,
      "outputs": []
    }
  ]
}