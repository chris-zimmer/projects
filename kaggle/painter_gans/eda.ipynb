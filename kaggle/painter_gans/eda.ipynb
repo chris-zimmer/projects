{
 "cells": [
  {
   "attachments": {},
   "cell_type": "markdown",
   "metadata": {},
   "source": [
    "### Loading and exploring the \"I'm Something of a Painter Myself\" competition dataset on Kaggle"
   ]
  },
  {
   "cell_type": "markdown",
   "metadata": {},
   "source": []
  }
 ],
 "metadata": {
  "kernelspec": {
   "display_name": "Python 3",
   "language": "python",
   "name": "python3"
  },
  "language_info": {
   "name": "python",
   "version": "3.10.6"
  },
  "orig_nbformat": 4,
  "vscode": {
   "interpreter": {
    "hash": "ac4e5576e34ee857b8b8c92338c592de7df72d16797647ef15f579d78f9c9912"
   }
  }
 },
 "nbformat": 4,
 "nbformat_minor": 2
}
