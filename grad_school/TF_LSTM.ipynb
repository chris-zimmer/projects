{
  "nbformat": 4,
  "nbformat_minor": 0,
  "metadata": {
    "colab": {
      "name": "TF LSTM.ipynb",
      "provenance": [],
      "collapsed_sections": [],
      "mount_file_id": "1tHdwk4-kfeQDE0yFCDaHaggxdxc73H5U",
      "authorship_tag": "ABX9TyMkW9+sFJgAwJonzqYsstg/",
      "include_colab_link": true
    },
    "kernelspec": {
      "display_name": "Python 3",
      "name": "python3"
    }
  },
  "cells": [
    {
      "cell_type": "markdown",
      "metadata": {
        "id": "view-in-github",
        "colab_type": "text"
      },
      "source": [
        "<a href=\"https://colab.research.google.com/github/ChristopherZimmerCU-Boulder/projects/blob/master/TF_LSTM.ipynb\" target=\"_parent\"><img src=\"https://colab.research.google.com/assets/colab-badge.svg\" alt=\"Open In Colab\"/></a>"
      ]
    },
    {
      "cell_type": "markdown",
      "metadata": {
        "id": "Ns929H4Mc1g-"
      },
      "source": [
        "# LSTM model using TensorFlow"
      ]
    },
    {
      "cell_type": "markdown",
      "metadata": {
        "id": "dnjVKh6Pc8yQ"
      },
      "source": [
        "### Import the data"
      ]
    },
    {
      "cell_type": "code",
      "metadata": {
        "id": "Fq1Bx7MBc6hN"
      },
      "source": [
        "import tensorflow as tf\n",
        "import pandas as pd\n",
        "import matplotlib.pyplot as plt\n",
        "import numpy as np\n",
        "\n",
        "data = pd.read_csv('/content/drive/MyDrive/Culminating Experience/HandTagged_for_GoogleColab.csv')"
      ],
      "execution_count": null,
      "outputs": []
    },
    {
      "cell_type": "markdown",
      "metadata": {
        "id": "ybA1xWh7hhoP"
      },
      "source": [
        "### Label Encoding"
      ]
    },
    {
      "cell_type": "code",
      "metadata": {
        "id": "ngGjO2WzhmfJ"
      },
      "source": [
        "# from sklearn.preprocessing import LabelEncoder\n",
        "# le = LabelEncoder()\n",
        "\n",
        "# data['Sentiment'] = le.fit_transform(data['Sentiment'])"
      ],
      "execution_count": null,
      "outputs": []
    },
    {
      "cell_type": "markdown",
      "metadata": {
        "id": "YtNsHL8GkH3x"
      },
      "source": [
        "### Building the Training and Testing sets"
      ]
    },
    {
      "cell_type": "code",
      "metadata": {
        "id": "1Z_yRaGAkOuR"
      },
      "source": [
        "import tensorflow as tf\n",
        "from tensorflow.keras.preprocessing.text import Tokenizer\n",
        "from tensorflow.keras.preprocessing.sequence import pad_sequences\n",
        "\n",
        "import math\n",
        "training_size = math.floor(0.9*len(data['Comment']))\n",
        "\n",
        "vocab_size = 10000\n",
        "embedding_dim = 16\n",
        "max_length = 20\n",
        "trunc_type = 'post'\n",
        "padding_type='post'\n",
        "oov_tok = \"<OOV>\"\n",
        "\n",
        "# Sentences\n",
        "training_sentences = data['Comment'][0:training_size].values.tolist()\n",
        "testing_sentences = data['Comment'][training_size:].values.tolist()\n",
        "\n",
        "tokenizer = Tokenizer(num_words = vocab_size, oov_token = oov_tok)\n",
        "tokenizer.fit_on_texts(training_sentences)\n",
        "word_index = tokenizer.word_index\n",
        "\n",
        "training_sequences = tokenizer.texts_to_sequences(training_sentences)\n",
        "training_padded = pad_sequences(training_sequences, maxlen=max_length, padding=padding_type, truncating=trunc_type)\n",
        "\n",
        "testing_sequences = tokenizer.texts_to_sequences(testing_sentences)\n",
        "testing_padded = pad_sequences(testing_sequences, maxlen=max_length, padding=padding_type, truncating=trunc_type)\n",
        "\n",
        "\n",
        "# Labels\n",
        "labels = data['Sentiment'].values.tolist()\n",
        "training_labels = data['Sentiment'][0:training_size].values.tolist()\n",
        "testing_labels = data['Sentiment'][training_size:].values.tolist()\n",
        "\n",
        "tokenizer2 = Tokenizer()\n",
        "tokenizer2.fit_on_texts(labels)\n",
        "word_index2 = tokenizer2.word_index\n",
        "\n",
        "training_labels = np.array(tokenizer2.texts_to_sequences(training_labels))\n",
        "testing_labels = np.array(tokenizer2.texts_to_sequences(testing_labels))"
      ],
      "execution_count": null,
      "outputs": []
    },
    {
      "cell_type": "markdown",
      "metadata": {
        "id": "NMCY0fKJQJX6"
      },
      "source": [
        "### The Model"
      ]
    },
    {
      "cell_type": "code",
      "metadata": {
        "colab": {
          "base_uri": "https://localhost:8080/"
        },
        "id": "HqUg6qBMQLva",
        "outputId": "46c8c4a3-b733-4e13-885d-5ef06ce9cca3"
      },
      "source": [
        "model = tf.keras.Sequential([\n",
        "    tf.keras.layers.Embedding(vocab_size, embedding_dim, input_length=max_length),\n",
        "    tf.keras.layers.Bidirectional(tf.keras.layers.LSTM(32)),\n",
        "    tf.keras.layers.Dense(32, activation='relu'),\n",
        "    tf.keras.layers.Dense(4, activation='softmax')\n",
        "])\n",
        "\n",
        "model.compile(loss = 'sparse_categorical_crossentropy', optimizer = 'adam', metrics = ['accuracy'])\n",
        "model.summary()"
      ],
      "execution_count": null,
      "outputs": [
        {
          "output_type": "stream",
          "text": [
            "Model: \"sequential_1\"\n",
            "_________________________________________________________________\n",
            "Layer (type)                 Output Shape              Param #   \n",
            "=================================================================\n",
            "embedding_1 (Embedding)      (None, 20, 16)            160000    \n",
            "_________________________________________________________________\n",
            "bidirectional_1 (Bidirection (None, 64)                12544     \n",
            "_________________________________________________________________\n",
            "dense_2 (Dense)              (None, 32)                2080      \n",
            "_________________________________________________________________\n",
            "dense_3 (Dense)              (None, 4)                 132       \n",
            "=================================================================\n",
            "Total params: 174,756\n",
            "Trainable params: 174,756\n",
            "Non-trainable params: 0\n",
            "_________________________________________________________________\n"
          ],
          "name": "stdout"
        }
      ]
    },
    {
      "cell_type": "code",
      "metadata": {
        "colab": {
          "base_uri": "https://localhost:8080/"
        },
        "id": "AJu0QOcooLLK",
        "outputId": "289f9183-ab40-4aae-9221-29088bc0f9b8"
      },
      "source": [
        "num_epochs = 50\n",
        "training_padded = np.array(training_padded)\n",
        "testing_padded = np.array(testing_padded)\n",
        "\n",
        "history = model.fit(training_padded, training_labels, epochs=num_epochs, validation_data=(testing_padded, testing_labels), verbose=1)"
      ],
      "execution_count": null,
      "outputs": [
        {
          "output_type": "stream",
          "text": [
            "Epoch 1/50\n",
            "96/96 [==============================] - 5s 24ms/step - loss: 1.2379 - accuracy: 0.4700 - val_loss: 1.1003 - val_accuracy: 0.2581\n",
            "Epoch 2/50\n",
            "96/96 [==============================] - 2s 16ms/step - loss: 0.8389 - accuracy: 0.6571 - val_loss: 0.7177 - val_accuracy: 0.7155\n",
            "Epoch 3/50\n",
            "96/96 [==============================] - 2s 16ms/step - loss: 0.5373 - accuracy: 0.7691 - val_loss: 0.6004 - val_accuracy: 0.7478\n",
            "Epoch 4/50\n",
            "96/96 [==============================] - 2s 16ms/step - loss: 0.4017 - accuracy: 0.8338 - val_loss: 0.6673 - val_accuracy: 0.7771\n",
            "Epoch 5/50\n",
            "96/96 [==============================] - 2s 17ms/step - loss: 0.3161 - accuracy: 0.8781 - val_loss: 0.7321 - val_accuracy: 0.7214\n",
            "Epoch 6/50\n",
            "96/96 [==============================] - 2s 17ms/step - loss: 0.2416 - accuracy: 0.9176 - val_loss: 0.7736 - val_accuracy: 0.7331\n",
            "Epoch 7/50\n",
            "96/96 [==============================] - 2s 17ms/step - loss: 0.2140 - accuracy: 0.9310 - val_loss: 0.9250 - val_accuracy: 0.7009\n",
            "Epoch 8/50\n",
            "96/96 [==============================] - 2s 16ms/step - loss: 0.1690 - accuracy: 0.9425 - val_loss: 0.8607 - val_accuracy: 0.7507\n",
            "Epoch 9/50\n",
            "96/96 [==============================] - 2s 16ms/step - loss: 0.1506 - accuracy: 0.9508 - val_loss: 0.9545 - val_accuracy: 0.7038\n",
            "Epoch 10/50\n",
            "96/96 [==============================] - 2s 16ms/step - loss: 0.1244 - accuracy: 0.9628 - val_loss: 1.0429 - val_accuracy: 0.7449\n",
            "Epoch 11/50\n",
            "96/96 [==============================] - 2s 17ms/step - loss: 0.0951 - accuracy: 0.9709 - val_loss: 1.0942 - val_accuracy: 0.7185\n",
            "Epoch 12/50\n",
            "96/96 [==============================] - 2s 16ms/step - loss: 0.0758 - accuracy: 0.9782 - val_loss: 1.2314 - val_accuracy: 0.7273\n",
            "Epoch 13/50\n",
            "96/96 [==============================] - 2s 16ms/step - loss: 0.0744 - accuracy: 0.9790 - val_loss: 1.1904 - val_accuracy: 0.7273\n",
            "Epoch 14/50\n",
            "96/96 [==============================] - 2s 16ms/step - loss: 0.0641 - accuracy: 0.9811 - val_loss: 1.3347 - val_accuracy: 0.6950\n",
            "Epoch 15/50\n",
            "96/96 [==============================] - 2s 16ms/step - loss: 0.0530 - accuracy: 0.9850 - val_loss: 1.3753 - val_accuracy: 0.7155\n",
            "Epoch 16/50\n",
            "96/96 [==============================] - 2s 16ms/step - loss: 0.0477 - accuracy: 0.9899 - val_loss: 1.4074 - val_accuracy: 0.7302\n",
            "Epoch 17/50\n",
            "96/96 [==============================] - 2s 16ms/step - loss: 0.0445 - accuracy: 0.9886 - val_loss: 1.5428 - val_accuracy: 0.7302\n",
            "Epoch 18/50\n",
            "96/96 [==============================] - 2s 16ms/step - loss: 0.0489 - accuracy: 0.9848 - val_loss: 1.7244 - val_accuracy: 0.6921\n",
            "Epoch 19/50\n",
            "96/96 [==============================] - 2s 17ms/step - loss: 0.0523 - accuracy: 0.9840 - val_loss: 1.6870 - val_accuracy: 0.6862\n",
            "Epoch 20/50\n",
            "96/96 [==============================] - 2s 16ms/step - loss: 0.0399 - accuracy: 0.9882 - val_loss: 1.5948 - val_accuracy: 0.7214\n",
            "Epoch 21/50\n",
            "96/96 [==============================] - 2s 16ms/step - loss: 0.0257 - accuracy: 0.9936 - val_loss: 1.8618 - val_accuracy: 0.6979\n",
            "Epoch 22/50\n",
            "96/96 [==============================] - 2s 17ms/step - loss: 0.0390 - accuracy: 0.9888 - val_loss: 1.6632 - val_accuracy: 0.7243\n",
            "Epoch 23/50\n",
            "96/96 [==============================] - 2s 17ms/step - loss: 0.0317 - accuracy: 0.9899 - val_loss: 1.8590 - val_accuracy: 0.6921\n",
            "Epoch 24/50\n",
            "96/96 [==============================] - 2s 17ms/step - loss: 0.0307 - accuracy: 0.9892 - val_loss: 1.9319 - val_accuracy: 0.6833\n",
            "Epoch 25/50\n",
            "96/96 [==============================] - 2s 17ms/step - loss: 0.0277 - accuracy: 0.9922 - val_loss: 1.8644 - val_accuracy: 0.7097\n",
            "Epoch 26/50\n",
            "96/96 [==============================] - 2s 18ms/step - loss: 0.0148 - accuracy: 0.9970 - val_loss: 1.9910 - val_accuracy: 0.7331\n",
            "Epoch 27/50\n",
            "96/96 [==============================] - 2s 17ms/step - loss: 0.0321 - accuracy: 0.9885 - val_loss: 2.0057 - val_accuracy: 0.6950\n",
            "Epoch 28/50\n",
            "96/96 [==============================] - 2s 16ms/step - loss: 0.0190 - accuracy: 0.9929 - val_loss: 2.0468 - val_accuracy: 0.6862\n",
            "Epoch 29/50\n",
            "96/96 [==============================] - 2s 17ms/step - loss: 0.0364 - accuracy: 0.9874 - val_loss: 2.2537 - val_accuracy: 0.6921\n",
            "Epoch 30/50\n",
            "96/96 [==============================] - 2s 17ms/step - loss: 0.0192 - accuracy: 0.9943 - val_loss: 2.1607 - val_accuracy: 0.6774\n",
            "Epoch 31/50\n",
            "96/96 [==============================] - 2s 17ms/step - loss: 0.0304 - accuracy: 0.9885 - val_loss: 2.3556 - val_accuracy: 0.6804\n",
            "Epoch 32/50\n",
            "96/96 [==============================] - 2s 17ms/step - loss: 0.0206 - accuracy: 0.9938 - val_loss: 2.2396 - val_accuracy: 0.6921\n",
            "Epoch 33/50\n",
            "96/96 [==============================] - 2s 17ms/step - loss: 0.0202 - accuracy: 0.9945 - val_loss: 2.2468 - val_accuracy: 0.6950\n",
            "Epoch 34/50\n",
            "96/96 [==============================] - 2s 17ms/step - loss: 0.0145 - accuracy: 0.9948 - val_loss: 2.2126 - val_accuracy: 0.7067\n",
            "Epoch 35/50\n",
            "96/96 [==============================] - 2s 18ms/step - loss: 0.0136 - accuracy: 0.9965 - val_loss: 2.2927 - val_accuracy: 0.7273\n",
            "Epoch 36/50\n",
            "96/96 [==============================] - 2s 18ms/step - loss: 0.0211 - accuracy: 0.9925 - val_loss: 2.6568 - val_accuracy: 0.6657\n",
            "Epoch 37/50\n",
            "96/96 [==============================] - 2s 17ms/step - loss: 0.0134 - accuracy: 0.9937 - val_loss: 2.3112 - val_accuracy: 0.6862\n",
            "Epoch 38/50\n",
            "96/96 [==============================] - 2s 17ms/step - loss: 0.0171 - accuracy: 0.9949 - val_loss: 2.2372 - val_accuracy: 0.7185\n",
            "Epoch 39/50\n",
            "96/96 [==============================] - 2s 17ms/step - loss: 0.0147 - accuracy: 0.9953 - val_loss: 2.2917 - val_accuracy: 0.7097\n",
            "Epoch 40/50\n",
            "96/96 [==============================] - 2s 17ms/step - loss: 0.0151 - accuracy: 0.9948 - val_loss: 2.5746 - val_accuracy: 0.6686\n",
            "Epoch 41/50\n",
            "96/96 [==============================] - 2s 17ms/step - loss: 0.0218 - accuracy: 0.9930 - val_loss: 2.3726 - val_accuracy: 0.6979\n",
            "Epoch 42/50\n",
            "96/96 [==============================] - 2s 17ms/step - loss: 0.0175 - accuracy: 0.9932 - val_loss: 2.4072 - val_accuracy: 0.6979\n",
            "Epoch 43/50\n",
            "96/96 [==============================] - 2s 18ms/step - loss: 0.0097 - accuracy: 0.9975 - val_loss: 2.4055 - val_accuracy: 0.7478\n",
            "Epoch 44/50\n",
            "96/96 [==============================] - 2s 17ms/step - loss: 0.0196 - accuracy: 0.9935 - val_loss: 2.4167 - val_accuracy: 0.7126\n",
            "Epoch 45/50\n",
            "96/96 [==============================] - 2s 17ms/step - loss: 0.0157 - accuracy: 0.9937 - val_loss: 2.4649 - val_accuracy: 0.6833\n",
            "Epoch 46/50\n",
            "96/96 [==============================] - 2s 17ms/step - loss: 0.0085 - accuracy: 0.9978 - val_loss: 2.5905 - val_accuracy: 0.7214\n",
            "Epoch 47/50\n",
            "96/96 [==============================] - 2s 17ms/step - loss: 0.0301 - accuracy: 0.9890 - val_loss: 2.2775 - val_accuracy: 0.7097\n",
            "Epoch 48/50\n",
            "96/96 [==============================] - 2s 17ms/step - loss: 0.0317 - accuracy: 0.9898 - val_loss: 2.3820 - val_accuracy: 0.7009\n",
            "Epoch 49/50\n",
            "96/96 [==============================] - 2s 17ms/step - loss: 0.0181 - accuracy: 0.9923 - val_loss: 2.3076 - val_accuracy: 0.7331\n",
            "Epoch 50/50\n",
            "96/96 [==============================] - 2s 17ms/step - loss: 0.0127 - accuracy: 0.9954 - val_loss: 2.3385 - val_accuracy: 0.7126\n"
          ],
          "name": "stdout"
        }
      ]
    },
    {
      "cell_type": "markdown",
      "metadata": {
        "id": "LLFcj3_aoYkB"
      },
      "source": [
        "### Graphical results"
      ]
    },
    {
      "cell_type": "code",
      "metadata": {
        "colab": {
          "base_uri": "https://localhost:8080/",
          "height": 541
        },
        "id": "OKgyjhHWoa9D",
        "outputId": "97e9d17d-cd4a-4a0b-8990-5d948dd09f00"
      },
      "source": [
        "import matplotlib.pyplot as plt\n",
        "\n",
        "def plot_graphs(history, string):\n",
        "  plt.plot(history.history[string])\n",
        "  plt.plot(history.history['val_'+string])\n",
        "  plt.xlabel(\"Epochs\")\n",
        "  plt.ylabel(string)\n",
        "  plt.legend([string, 'val_'+string])\n",
        "  plt.show()\n",
        "\n",
        "plot_graphs(history, 'accuracy')\n",
        "plot_graphs(history, 'loss')"
      ],
      "execution_count": null,
      "outputs": [
        {
          "output_type": "display_data",
          "data": {
            "image/png": "[encoded data removed]",
            "text/plain": [
              "<Figure size 432x288 with 1 Axes>"
            ]
          },
          "metadata": {
            "tags": [],
            "needs_background": "light"
          }
        },
        {
          "output_type": "display_data",
          "data": {
            "image/png": "[encoded data removed]",
            "text/plain": [
              "<Figure size 432x288 with 1 Axes>"
            ]
          },
          "metadata": {
            "tags": [],
            "needs_background": "light"
          }
        }
      ]
    },
    {
      "cell_type": "code",
      "metadata": {
        "id": "7jFWGLBhWqWW"
      },
      "source": [
        ""
      ],
      "execution_count": null,
      "outputs": []
    }
  ]
}